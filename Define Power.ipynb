{
 "cells": [
  {
   "cell_type": "code",
   "execution_count": 10,
   "metadata": {
    "scrolled": true
   },
   "outputs": [
    {
     "data": {
      "text/plain": [
       "8"
      ]
     },
     "execution_count": 10,
     "metadata": {},
     "output_type": "execute_result"
    }
   ],
   "source": [
    "def power(x,n=2): #n=2 set as default \n",
    "    s=1\n",
    "    while n>0:\n",
    "        n=n-1\n",
    "        s=x*s\n",
    "    return s\n",
    "\n",
    "power(2,3)\n"
   ]
  },
  {
   "cell_type": "code",
   "execution_count": 19,
   "metadata": {},
   "outputs": [
    {
     "name": "stdout",
     "output_type": "stream",
     "text": [
      "[1, 2, 'END']\n"
     ]
    }
   ],
   "source": [
    "def add_end(L=None):\n",
    "    if L is None:\n",
    "        L = []\n",
    "    L.append('END');\n",
    "    return L\n",
    "\n",
    "test = add_end([1,2])\n",
    "print (test)\n",
    "        \n",
    "    "
   ]
  },
  {
   "cell_type": "code",
   "execution_count": 21,
   "metadata": {},
   "outputs": [
    {
     "name": "stdout",
     "output_type": "stream",
     "text": [
      "14\n"
     ]
    }
   ],
   "source": [
    "def cal(*numbers):\n",
    "    sum=0\n",
    "    for n in numbers:\n",
    "        sum = sum + n*n\n",
    "    return sum\n",
    "\n",
    "test = cal(1,2,3)\n",
    "print (test)"
   ]
  },
  {
   "cell_type": "code",
   "execution_count": 39,
   "metadata": {},
   "outputs": [
    {
     "name": "stdout",
     "output_type": "stream",
     "text": [
      "a = 2 b = 4 c = 3 args = ('e', 5, 6) kw = {'extra': 'oh I see'}\n",
      "a = 1 b = 2 c = 3 args = () kw = {'extra': 'oh'}\n"
     ]
    }
   ],
   "source": [
    "def f1(a, b, c=0, *args, **kw):\n",
    "    print('a =', a, 'b =', b, 'c =', c, 'args =', args, 'kw =', kw)\n",
    "\n",
    "def f2(a, b, c=0, *, d, **kw):\n",
    "    print('a =', a, 'b =', b, 'c =', c, 'd =', d, 'kw =', kw)\n",
    "    \n",
    "f1(2,4,3,'e',5,6,extra='oh I see')\n",
    "\n",
    "args=(1,2,3)\n",
    "kw={'extra':\"oh\"}\n",
    "f1(*args,**kw)"
   ]
  },
  {
   "cell_type": "code",
   "execution_count": null,
   "metadata": {},
   "outputs": [],
   "source": [
    "以下函数允许计算两个数的乘积，请稍加改造，变成可接收一个或多个数并计算乘积：\n"
   ]
  },
  {
   "cell_type": "code",
   "execution_count": 55,
   "metadata": {},
   "outputs": [
    {
     "name": "stdout",
     "output_type": "stream",
     "text": [
      "product(5) = 5\n",
      "product(5, 6) = 30\n",
      "product(5, 6, 7) = 210\n",
      "product(5, 6, 7, 9) = 1890\n",
      "测试成功!\n"
     ]
    }
   ],
   "source": [
    "def product(x,*e):\n",
    "    \n",
    "    answer = x\n",
    "    \n",
    "    for n in e:\n",
    "        \n",
    "        answer = answer * n\n",
    "    \n",
    "    return answer\n",
    "\n",
    "\n",
    "# 测试\n",
    "print('product(5) =', product(5))\n",
    "print('product(5, 6) =', product(5, 6))\n",
    "print('product(5, 6, 7) =', product(5, 6, 7))\n",
    "print('product(5, 6, 7, 9) =', product(5, 6, 7, 9))\n",
    "if product(5) != 5:\n",
    "    print('测试失败!')\n",
    "elif product(5, 6) != 30:\n",
    "    print('测试失败!')\n",
    "elif product(5, 6, 7) != 210:\n",
    "    print('测试失败!')\n",
    "elif product(5, 6, 7, 9) != 1890:\n",
    "    print('测试失败!')\n",
    "else:\n",
    "    try:\n",
    "        product()\n",
    "        print('测试失败!')\n",
    "    except TypeError:\n",
    "        print('测试成功!')"
   ]
  },
  {
   "cell_type": "code",
   "execution_count": 78,
   "metadata": {},
   "outputs": [
    {
     "name": "stdout",
     "output_type": "stream",
     "text": [
      "120\n"
     ]
    }
   ],
   "source": [
    "def fact(n):\n",
    "    if n==1:\n",
    "        return 1\n",
    "    return n*fact(n-1)\n",
    "\n",
    "print(fact(5))"
   ]
  },
  {
   "cell_type": "code",
   "execution_count": 69,
   "metadata": {},
   "outputs": [
    {
     "name": "stdout",
     "output_type": "stream",
     "text": [
      "120\n"
     ]
    }
   ],
   "source": [
    "def fact(n):\n",
    "    return fact_interg(n,1)\n",
    "\n",
    "def fact_interg(n,product):\n",
    "    if n==1:\n",
    "        return product\n",
    "    return fact_interg((n-1),product*n)\n",
    "\n",
    "print(fact(5))"
   ]
  },
  {
   "cell_type": "code",
   "execution_count": null,
   "metadata": {},
   "outputs": [],
   "source": [
    "def move(n, a, b, c):\n",
    "    if n == 1:\n",
    "        print(a, '-->', c)\n",
    "    else:\n",
    "        move(n-1,a,c,b) # n-1 a-->b\n",
    "        print(a,'-->',c) #a -->c \n",
    "        move(n-1,b,a,c)  # n-1 b-->c\n",
    "    return \n",
    "        \n",
    "# 期待输出:\n",
    "# A --> C\n",
    "# A --> B\n",
    "# C --> B\n",
    "# A --> C\n",
    "# B --> A\n",
    "# B --> C\n",
    "# A --> C\n",
    "move(3, 'A', 'B', 'C')"
   ]
  },
  {
   "cell_type": "code",
   "execution_count": 161,
   "metadata": {},
   "outputs": [
    {
     "name": "stdout",
     "output_type": "stream",
     "text": [
      "测试成功7!\n"
     ]
    }
   ],
   "source": [
    "# -*- coding: utf-8 -*-\n",
    "def trim(s):\n",
    "    if s[:1] == ' ':\n",
    "        return trim(s[1:])\n",
    "    elif s[-1:] == ' ':\n",
    "        return trim(s[:-1])\n",
    "    return s\n",
    "\n",
    "# 测试:\n",
    "if trim('hello  ') != 'hello':\n",
    "    print (trim('hello '))\n",
    "    print('测试失败1!')\n",
    "elif trim('  hello') != 'hello':\n",
    "    print('测试失败2!')\n",
    "elif trim('  hello  ') != 'hello':\n",
    "    print('测试失败3!')\n",
    "elif trim('  hello  world  ') != 'hello  world':\n",
    "    print('测试失败4!')\n",
    "elif trim('') != '':\n",
    "    print('测试失败5!')\n",
    "elif trim('    ') != '':\n",
    "    print('测试失败6!')\n",
    "else:\n",
    "    print('测试成功7!')"
   ]
  },
  {
   "cell_type": "code",
   "execution_count": 151,
   "metadata": {},
   "outputs": [
    {
     "name": "stdout",
     "output_type": "stream",
     "text": [
      "测试成功7!\n"
     ]
    }
   ],
   "source": [
    "def trim(s):\n",
    "    if s[:1] ==' ':\n",
    "\n",
    "        return trim(s[1:])\n",
    "\n",
    "    elif s[-1:]==' ':\n",
    "\n",
    "        return trim(s[:-1])\n",
    "\n",
    "    else:\n",
    "\n",
    "        return s\n",
    "\n",
    "if trim('hello  ') != 'hello':\n",
    "    print (trim('hello '))\n",
    "    print('测试失败1!')\n",
    "elif trim('  hello') != 'hello':\n",
    "    print('测试失败2!')\n",
    "elif trim('  hello  ') != 'hello':\n",
    "    print('测试失败3!')\n",
    "elif trim('  hello  world  ') != 'hello  world':\n",
    "    print('测试失败4!')\n",
    "elif trim('') != '':\n",
    "    print('测试失败5!')\n",
    "elif trim('    ') != '':\n",
    "    print('测试失败6!')\n",
    "else:\n",
    "    print('测试成功7!')"
   ]
  }
 ],
 "metadata": {
  "kernelspec": {
   "display_name": "Python 3",
   "language": "python",
   "name": "python3"
  },
  "language_info": {
   "codemirror_mode": {
    "name": "ipython",
    "version": 3
   },
   "file_extension": ".py",
   "mimetype": "text/x-python",
   "name": "python",
   "nbconvert_exporter": "python",
   "pygments_lexer": "ipython3",
   "version": "3.7.5"
  }
 },
 "nbformat": 4,
 "nbformat_minor": 2
}
